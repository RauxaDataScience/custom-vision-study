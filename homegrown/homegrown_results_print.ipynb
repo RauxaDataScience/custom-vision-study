{
 "cells": [
  {
   "cell_type": "markdown",
   "metadata": {},
   "source": [
    "# todo"
   ]
  },
  {
   "cell_type": "code",
   "execution_count": null,
   "metadata": {
    "scrolled": false
   },
   "outputs": [],
   "source": [
    "import perfreport\n",
    "import glob\n",
    "\n",
    "results_directory = '{PATH TO HOMEGROWN MODEL RESULT PICKLES}'\n",
    "\n",
    "# Update the glob to filter to the pickles of interest\n",
    "results_list = glob.glob(results_directory+\"*.p\")\n",
    "\n",
    "print(\"RESULTS TO SHOW\")\n",
    "for result_file in results_list:\n",
    "    print(\"   \"+result_file)\n",
    "\n",
    "print(\"\")\n",
    "print(\"\")\n",
    "print(\"\")\n",
    "\n",
    "for result_file in results_list:\n",
    "    print(\"############################################################################################################\")\n",
    "    print(result_file)\n",
    "    print(\"############################################################################################################\")\n",
    "    perfreport.print_metrics(result_file)\n",
    "    print(\"\")\n",
    "    print(\"\")\n",
    "    print(\"\")\n",
    "    "
   ]
  },
  {
   "cell_type": "code",
   "execution_count": null,
   "metadata": {
    "scrolled": false
   },
   "outputs": [],
   "source": []
  }
 ],
 "metadata": {
  "kernelspec": {
   "display_name": "Python 2",
   "language": "python",
   "name": "python2"
  },
  "language_info": {
   "codemirror_mode": {
    "name": "ipython",
    "version": 3
   },
   "file_extension": ".py",
   "mimetype": "text/x-python",
   "name": "python",
   "nbconvert_exporter": "python",
   "pygments_lexer": "ipython3",
   "version": "3.6.7"
  }
 },
 "nbformat": 4,
 "nbformat_minor": 2
}
