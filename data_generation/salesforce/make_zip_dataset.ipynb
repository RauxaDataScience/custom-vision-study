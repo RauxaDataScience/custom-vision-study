{
 "cells": [
  {
   "cell_type": "markdown",
   "metadata": {},
   "source": [
    "# Create Zipped Dataset for Salesforce Einstein\n",
    "Salesforce Einstein supports zip-file uploads which appeared to be the fastest approach. This creates a zip file and then another script in this directory helps upload them. Once zips are created, see \"upload_zip_datasets.sh\""
   ]
  },
  {
   "cell_type": "code",
   "execution_count": null,
   "metadata": {},
   "outputs": [],
   "source": [
    "import os, sys\n",
    "import pandas as pd\n",
    "import requests\n",
    "import numpy as np\n",
    "import shutil\n",
    "import requests"
   ]
  },
  {
   "cell_type": "markdown",
   "metadata": {},
   "source": [
    "# Config Params\n",
    "Set datasets of interest, root dataset location, and save directory"
   ]
  },
  {
   "cell_type": "code",
   "execution_count": null,
   "metadata": {},
   "outputs": [],
   "source": [
    "# Set datasets you want to generate zips for\n",
    "datasets = ['fashion_mnist_tiny', 'cifar10_tiny', 'mnist_tiny', 'uo_dress_tiny']\n",
    "\n",
    "# Define where the root datasets are\n",
    "root_data = '{ROOT_DATASET_DIRECTORY}'\n",
    "\n",
    "# Define where to save the data\n",
    "save_dir = '{SAVE_DIRECTORY}'"
   ]
  },
  {
   "cell_type": "markdown",
   "metadata": {},
   "source": [
    "# Create the Zip Files"
   ]
  },
  {
   "cell_type": "code",
   "execution_count": null,
   "metadata": {},
   "outputs": [],
   "source": [
    "for d in datasets:\n",
    "    print('CREATING ZIP FOR DATASET {}...'.format(d))\n",
    "    dataset_path = os.path.join(root_data, d)\n",
    "\n",
    "    # Get filenames and ground truth\n",
    "    labels = pd.read_csv(os.path.join(dataset_path, 'labels.csv'), header=None, dtype=str)\n",
    "    train_files = labels[labels[0].str.contains('(train|val)')].values\n",
    "    test_files = labels[labels[0].str.contains('test')].values\n",
    "\n",
    "    # Assign labels\n",
    "    y_train = train_files[:,1]\n",
    "    class_labels = np.sort(np.unique(y_train))\n",
    "\n",
    "    # Make output directory\n",
    "    dataset_out = os.path.join(save_dir, d)\n",
    "    try:\n",
    "        os.makedirs(dataset_out)\n",
    "    except:\n",
    "        pass\n",
    "\n",
    "    # Copy files to uploadable format\n",
    "    for cls in class_labels:\n",
    "        # Grab files\n",
    "        print('Grabbing files from class: {} ...'.format(cls))\n",
    "        inds_match = y_train == cls\n",
    "        files_temp = train_files[inds_match, 0]\n",
    "        y_temp = y_train[inds_match]\n",
    "        files_temp = [os.path.join(dataset_path, c) for c in files_temp]\n",
    "        print('{} files found.'.format(len(files_temp)))\n",
    "\n",
    "        # Make directory\n",
    "        cls_dir = os.path.join(dataset_out, str(cls))\n",
    "        try:\n",
    "            os.makedirs(cls_dir)\n",
    "        except:\n",
    "            pass    \n",
    "\n",
    "        # Copy all matching files into that directory\n",
    "        for i, file_name in enumerate(files_temp):\n",
    "            if i+1 % 100 == 0:\n",
    "                print('{}/{}'.format(i+1, len(files_temp)))\n",
    "            full_file_name = os.path.join(dataset_path, file_name)\n",
    "            #print(full_file_name)\n",
    "            try:\n",
    "                shutil.copy(full_file_name, cls_dir)    \n",
    "            except: \n",
    "                print('Error copying {}'.format(full_file_name))\n",
    "\n",
    "\n",
    "    # Zip the directory\n",
    "    output_filename = os.path.join(save_dir, d)\n",
    "    shutil.make_archive(output_filename, 'zip', dataset_out)"
   ]
  }
 ],
 "metadata": {
  "kernelspec": {
   "display_name": "Python 3",
   "language": "python",
   "name": "python3"
  },
  "language_info": {
   "codemirror_mode": {
    "name": "ipython",
    "version": 3
   },
   "file_extension": ".py",
   "mimetype": "text/x-python",
   "name": "python",
   "nbconvert_exporter": "python",
   "pygments_lexer": "ipython3",
   "version": "3.6.7"
  }
 },
 "nbformat": 4,
 "nbformat_minor": 2
}
