{
 "cells": [
  {
   "cell_type": "code",
   "execution_count": 2,
   "metadata": {},
   "outputs": [],
   "source": [
    "import urllib.request\n",
    "import csv\n",
    "import time"
   ]
  },
  {
   "cell_type": "markdown",
   "metadata": {},
   "source": [
    "# Config Params"
   ]
  },
  {
   "cell_type": "code",
   "execution_count": 4,
   "metadata": {},
   "outputs": [],
   "source": [
    "labels_file = \"uo_dress_labels.csv\"\n",
    "url_file = \"uo_dress_urls.csv\"\n",
    "min_file_size = 3500\n",
    "save_dir = './uo_dress'"
   ]
  },
  {
   "cell_type": "markdown",
   "metadata": {},
   "source": [
    "# Get all of the product IDs from labels file"
   ]
  },
  {
   "cell_type": "code",
   "execution_count": 14,
   "metadata": {},
   "outputs": [
    {
     "name": "stdout",
     "output_type": "stream",
     "text": [
      "test/28386126_061_b.jpg,not_dress\r",
      "\r\n",
      "train/35524859_010_b.jpg,solid_color\r",
      "\r\n",
      "train/35800259_045_b.jpg,floral\r",
      "\r\n",
      "train/23951254_004_b.jpg,not_dress\r",
      "\r\n",
      "train/933053_nav_b.jpg,solid_color\r",
      "\r\n",
      "train/36699809_029_b.jpg,stripes\r",
      "\r\n",
      "train/15006984_001_b.jpg,not_dress\r",
      "\r\n",
      "train/30937221_050_b.jpg,floral\r",
      "\r\n",
      "train/22151245_041_b.jpg,floral\r",
      "\r\n",
      "train/31280555_001_b.jpg,solid_color\r",
      "\r\n"
     ]
    }
   ],
   "source": [
    "!head {labels_file}"
   ]
  },
  {
   "cell_type": "code",
   "execution_count": 6,
   "metadata": {},
   "outputs": [
    {
     "name": "stdout",
     "output_type": "stream",
     "text": [
      "5452 entries loaded from urbn_dress_labels.csv\n"
     ]
    }
   ],
   "source": [
    "product_dir_map = {}\n",
    "with open(labels_file, \"r\") as f:\n",
    "    reader = csv.reader(f)\n",
    "    for row in reader:\n",
    "        product_id = row[0].split('.')[0].split('/')[-1]\n",
    "        product_dir_map[product_id] = row[0]\n",
    "        \n",
    "print(\"{} entries loaded from {}\".format(len(product_dir_map), labels_file))"
   ]
  },
  {
   "cell_type": "markdown",
   "metadata": {},
   "source": [
    "# Get all of the URLs"
   ]
  },
  {
   "cell_type": "code",
   "execution_count": 15,
   "metadata": {},
   "outputs": [
    {
     "name": "stdout",
     "output_type": "stream",
     "text": [
      "28386126_061_b,https://s7d5.scene7.com/is/image/UrbanOutfitters/28386126_061_b\r",
      "\r\n",
      "35524859_010_b,https://s7d5.scene7.com/is/image/UrbanOutfitters/35524859_010_b\r",
      "\r\n",
      "35800259_045_b,https://s7d5.scene7.com/is/image/UrbanOutfitters/35800259_045_b\r",
      "\r\n",
      "23951254_004_b,https://s7d5.scene7.com/is/image/UrbanOutfitters/23951254_004_b\r",
      "\r\n",
      "933053_nav_b,https://s7d5.scene7.com/is/image/Anthropologie/933053_nav_b\r",
      "\r\n",
      "36699809_029_b,https://s7d5.scene7.com/is/image/UrbanOutfitters/36699809_029_b\r",
      "\r\n",
      "15006984_001_b,https://s7d5.scene7.com/is/image/UrbanOutfitters/15006984_001_b\r",
      "\r\n",
      "30937221_050_b,https://s7d5.scene7.com/is/image/UrbanOutfitters/30937221_050_b\r",
      "\r\n",
      "22151245_041_b,https://s7d5.scene7.com/is/image/UrbanOutfitters/22151245_041_b\r",
      "\r\n",
      "31280555_001_b,https://s7d5.scene7.com/is/image/UrbanOutfitters/31280555_001_b\r",
      "\r\n"
     ]
    }
   ],
   "source": [
    "!head {url_file}"
   ]
  },
  {
   "cell_type": "code",
   "execution_count": 8,
   "metadata": {},
   "outputs": [
    {
     "name": "stdout",
     "output_type": "stream",
     "text": [
      "5452 entries loaded from urbn_dress_urls.csv\n"
     ]
    }
   ],
   "source": [
    "product_url_map = {}\n",
    "with open(url_file, \"r\") as f:\n",
    "    reader = csv.reader(f)\n",
    "    for row in reader:\n",
    "        product_id, product_url = row\n",
    "        product_url_map[product_id] = product_url\n",
    "        \n",
    "print(\"{} entries loaded from {}\".format(len(product_dir_map), url_file))"
   ]
  },
  {
   "cell_type": "markdown",
   "metadata": {},
   "source": [
    "# Make output dir"
   ]
  },
  {
   "cell_type": "code",
   "execution_count": 13,
   "metadata": {},
   "outputs": [],
   "source": [
    "!mkdir -p {save_dir}/train\n",
    "!mkdir -p {save_dir}/test\n",
    "!mkdir -p {save_dir}/val"
   ]
  },
  {
   "cell_type": "markdown",
   "metadata": {},
   "source": [
    "# Loop through images, download, and save to appropriate directory"
   ]
  },
  {
   "cell_type": "code",
   "execution_count": null,
   "metadata": {},
   "outputs": [],
   "source": [
    "cnt = 0\n",
    "t1 = time.time()\n",
    "for product_id, product_dir in product_dir_map.items():\n",
    "    if cnt % 100 == 0:\n",
    "        print(\"{}/{}. Elapsed: {} sec ...\".format(cnt, len(product_dir_map), time.time()-t1))\n",
    "    cnt += 1\n",
    "    product_url = product_url_map[product_id]\n",
    "    save_file = \"{}/{}\".format(save_dir, product_dir)\n",
    "    _,msg = urllib.request.urlretrieve(product_url, save_file)\n",
    "    sz = int(msg.get_all('Content-Length')[0])\n",
    "    if sz < min_file_size:\n",
    "        print(\"Warning: file size a bit small {}. Check {} to make sure it's valid. URL for ID {}: {}\".format(sz, product_dir, product_id, product_url))\n",
    "print(\"Complete! Check logs above. Done in {} sec.\".format(t2-time.time()))"
   ]
  },
  {
   "cell_type": "code",
   "execution_count": null,
   "metadata": {},
   "outputs": [],
   "source": []
  }
 ],
 "metadata": {
  "kernelspec": {
   "display_name": "Python 3",
   "language": "python",
   "name": "python3"
  },
  "language_info": {
   "codemirror_mode": {
    "name": "ipython",
    "version": 3
   },
   "file_extension": ".py",
   "mimetype": "text/x-python",
   "name": "python",
   "nbconvert_exporter": "python",
   "pygments_lexer": "ipython3",
   "version": "3.6.7"
  }
 },
 "nbformat": 4,
 "nbformat_minor": 2
}
